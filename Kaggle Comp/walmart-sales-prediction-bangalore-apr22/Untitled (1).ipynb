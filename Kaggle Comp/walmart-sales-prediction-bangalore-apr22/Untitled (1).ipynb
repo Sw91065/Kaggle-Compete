{
 "cells": [
  {
   "cell_type": "code",
   "execution_count": 61,
   "id": "13e1ba6e",
   "metadata": {},
   "outputs": [],
   "source": [
    "import pandas as pd\n",
    "from sklearn.preprocessing import PowerTransformer\n",
    "from sklearn.feature_selection import RFE,SelectFromModel\n",
    "from sklearn.ensemble import RandomForestRegressor\n",
    "from sklearn.preprocessing import OrdinalEncoder,LabelEncoder\n",
    "from sklearn.preprocessing import OneHotEncoder\n",
    "from xverse.transformer import WOE\n",
    "from sklearn.model_selection import train_test_split\n",
    "from sklearn.linear_model import LinearRegression\n",
    "from sklearn.metrics import mean_absolute_error\n",
    "from sklearn.metrics import mean_squared_error"
   ]
  },
  {
   "cell_type": "code",
   "execution_count": 49,
   "id": "bfb8c128",
   "metadata": {
    "scrolled": false
   },
   "outputs": [
    {
     "data": {
      "text/html": [
       "<div>\n",
       "<style scoped>\n",
       "    .dataframe tbody tr th:only-of-type {\n",
       "        vertical-align: middle;\n",
       "    }\n",
       "\n",
       "    .dataframe tbody tr th {\n",
       "        vertical-align: top;\n",
       "    }\n",
       "\n",
       "    .dataframe thead th {\n",
       "        text-align: right;\n",
       "    }\n",
       "</style>\n",
       "<table border=\"1\" class=\"dataframe\">\n",
       "  <thead>\n",
       "    <tr style=\"text-align: right;\">\n",
       "      <th></th>\n",
       "      <th>Year</th>\n",
       "      <th>Month</th>\n",
       "      <th>ProductCategory</th>\n",
       "      <th>Sales(In ThousandDollars)</th>\n",
       "    </tr>\n",
       "  </thead>\n",
       "  <tbody>\n",
       "    <tr>\n",
       "      <th>0</th>\n",
       "      <td>2009</td>\n",
       "      <td>1</td>\n",
       "      <td>WomenClothing</td>\n",
       "      <td>1755.0</td>\n",
       "    </tr>\n",
       "    <tr>\n",
       "      <th>1</th>\n",
       "      <td>2009</td>\n",
       "      <td>1</td>\n",
       "      <td>MenClothing</td>\n",
       "      <td>524.0</td>\n",
       "    </tr>\n",
       "    <tr>\n",
       "      <th>2</th>\n",
       "      <td>2009</td>\n",
       "      <td>1</td>\n",
       "      <td>OtherClothing</td>\n",
       "      <td>936.0</td>\n",
       "    </tr>\n",
       "    <tr>\n",
       "      <th>3</th>\n",
       "      <td>2009</td>\n",
       "      <td>2</td>\n",
       "      <td>WomenClothing</td>\n",
       "      <td>1729.0</td>\n",
       "    </tr>\n",
       "    <tr>\n",
       "      <th>4</th>\n",
       "      <td>2009</td>\n",
       "      <td>2</td>\n",
       "      <td>MenClothing</td>\n",
       "      <td>496.0</td>\n",
       "    </tr>\n",
       "  </tbody>\n",
       "</table>\n",
       "</div>"
      ],
      "text/plain": [
       "   Year  Month ProductCategory  Sales(In ThousandDollars)\n",
       "0  2009      1   WomenClothing                     1755.0\n",
       "1  2009      1     MenClothing                      524.0\n",
       "2  2009      1   OtherClothing                      936.0\n",
       "3  2009      2   WomenClothing                     1729.0\n",
       "4  2009      2     MenClothing                      496.0"
      ]
     },
     "execution_count": 49,
     "metadata": {},
     "output_type": "execute_result"
    }
   ],
   "source": [
    "df=pd.read_csv('train.csv')\n",
    "df.head()"
   ]
  },
  {
   "cell_type": "code",
   "execution_count": 50,
   "id": "ff53c51b",
   "metadata": {
    "scrolled": true
   },
   "outputs": [
    {
     "data": {
      "text/plain": [
       "Year                          0\n",
       "Month                         0\n",
       "ProductCategory               0\n",
       "Sales(In ThousandDollars)    10\n",
       "dtype: int64"
      ]
     },
     "execution_count": 50,
     "metadata": {},
     "output_type": "execute_result"
    }
   ],
   "source": [
    "df.isna().sum()"
   ]
  },
  {
   "cell_type": "code",
   "execution_count": 51,
   "id": "7db0c8b8",
   "metadata": {},
   "outputs": [
    {
     "data": {
      "text/plain": [
       "1.0003554577005078"
      ]
     },
     "execution_count": 51,
     "metadata": {},
     "output_type": "execute_result"
    }
   ],
   "source": [
    "df['Sales(In ThousandDollars)'].skew()"
   ]
  },
  {
   "cell_type": "code",
   "execution_count": 52,
   "id": "2aa7b524",
   "metadata": {},
   "outputs": [],
   "source": [
    "df['Sales(In ThousandDollars)'].fillna(df['Sales(In ThousandDollars)'].median(),inplace=True)"
   ]
  },
  {
   "cell_type": "code",
   "execution_count": 53,
   "id": "76ffb504",
   "metadata": {},
   "outputs": [],
   "source": [
    "df1=df.copy()"
   ]
  },
  {
   "cell_type": "code",
   "execution_count": 54,
   "id": "e3a15107",
   "metadata": {},
   "outputs": [
    {
     "data": {
      "text/plain": [
       "array(['WomenClothing', 'MenClothing', 'OtherClothing'], dtype=object)"
      ]
     },
     "execution_count": 54,
     "metadata": {},
     "output_type": "execute_result"
    }
   ],
   "source": [
    "df1['ProductCategory'].unique()"
   ]
  },
  {
   "cell_type": "code",
   "execution_count": 67,
   "id": "670cea6a",
   "metadata": {},
   "outputs": [
    {
     "name": "stdout",
     "output_type": "stream",
     "text": [
      "Training R2\n",
      "0.7337611384422952\n",
      "Testing R2\n",
      "0.7908570196624294\n",
      "Mse\n"
     ]
    },
    {
     "data": {
      "text/plain": [
       "334065.50711837935"
      ]
     },
     "execution_count": 67,
     "metadata": {},
     "output_type": "execute_result"
    }
   ],
   "source": [
    "df_features=df1.drop('Sales(In ThousandDollars)',axis=1)\n",
    "df_target=df1['Sales(In ThousandDollars)']\n",
    "Xtrain, Xtest, ytrain, ytest = train_test_split(df_features, df_target, test_size= 0.2,random_state=10)\n",
    "Oe=OrdinalEncoder()\n",
    "le=LabelEncoder()\n",
    "lr=LinearRegression()\n",
    "Xtrain['Year']=Oe.fit_transform(Xtrain[['Year']])\n",
    "Xtrain['ProductCategory']=le.fit_transform(Xtrain['ProductCategory'])\n",
    "Xtest['Year']=Oe.transform(Xtest[['Year']])\n",
    "Xtest['ProductCategory']=le.transform(Xtest['ProductCategory'])\n",
    "lr_base_model=lr.fit(Xtrain,ytrain)\n",
    "ytrain_pred=lr_base_model.predict(Xtrain)\n",
    "ytest_pred=lr_base_model.predict(Xtest)\n",
    "print(\"Training R2\")\n",
    "print(lr_base_model.score(Xtrain,ytrain))\n",
    "print(\"Testing R2\")\n",
    "print(lr_base_model.score(Xtest,ytest))\n",
    "print('Mse')\n",
    "mean_squared_error(ytest,ytest_pred)\n"
   ]
  },
  {
   "cell_type": "code",
   "execution_count": 66,
   "id": "7dd67d9f",
   "metadata": {},
   "outputs": [
    {
     "data": {
      "text/html": [
       "<div>\n",
       "<style scoped>\n",
       "    .dataframe tbody tr th:only-of-type {\n",
       "        vertical-align: middle;\n",
       "    }\n",
       "\n",
       "    .dataframe tbody tr th {\n",
       "        vertical-align: top;\n",
       "    }\n",
       "\n",
       "    .dataframe thead th {\n",
       "        text-align: right;\n",
       "    }\n",
       "</style>\n",
       "<table border=\"1\" class=\"dataframe\">\n",
       "  <thead>\n",
       "    <tr style=\"text-align: right;\">\n",
       "      <th></th>\n",
       "      <th>Year</th>\n",
       "      <th>MonthDate</th>\n",
       "      <th>Event</th>\n",
       "      <th>DayCategory</th>\n",
       "    </tr>\n",
       "  </thead>\n",
       "  <tbody>\n",
       "    <tr>\n",
       "      <th>0</th>\n",
       "      <td>2009</td>\n",
       "      <td>2001-01-01</td>\n",
       "      <td>New Year's Day</td>\n",
       "      <td>Federal Holiday</td>\n",
       "    </tr>\n",
       "    <tr>\n",
       "      <th>1</th>\n",
       "      <td>2009</td>\n",
       "      <td>2019-01-01</td>\n",
       "      <td>Martin Luther King Jr. Day</td>\n",
       "      <td>Federal Holiday</td>\n",
       "    </tr>\n",
       "    <tr>\n",
       "      <th>2</th>\n",
       "      <td>2009</td>\n",
       "      <td>2014-02-01</td>\n",
       "      <td>Valentine's Day</td>\n",
       "      <td>Event</td>\n",
       "    </tr>\n",
       "    <tr>\n",
       "      <th>3</th>\n",
       "      <td>2009</td>\n",
       "      <td>2016-02-01</td>\n",
       "      <td>Presidents' Day</td>\n",
       "      <td>Federal Holiday</td>\n",
       "    </tr>\n",
       "    <tr>\n",
       "      <th>4</th>\n",
       "      <td>2009</td>\n",
       "      <td>2012-04-01</td>\n",
       "      <td>Easter Sunday</td>\n",
       "      <td>Event</td>\n",
       "    </tr>\n",
       "    <tr>\n",
       "      <th>...</th>\n",
       "      <td>...</td>\n",
       "      <td>...</td>\n",
       "      <td>...</td>\n",
       "      <td>...</td>\n",
       "    </tr>\n",
       "    <tr>\n",
       "      <th>145</th>\n",
       "      <td>2016</td>\n",
       "      <td>2024-11-01</td>\n",
       "      <td>Thanksgiving Day</td>\n",
       "      <td>Federal Holiday</td>\n",
       "    </tr>\n",
       "    <tr>\n",
       "      <th>146</th>\n",
       "      <td>2016</td>\n",
       "      <td>2024-12-01</td>\n",
       "      <td>Christmas Eve</td>\n",
       "      <td>Event</td>\n",
       "    </tr>\n",
       "    <tr>\n",
       "      <th>147</th>\n",
       "      <td>2016</td>\n",
       "      <td>2025-12-01</td>\n",
       "      <td>Christmas Day</td>\n",
       "      <td>Federal Holiday</td>\n",
       "    </tr>\n",
       "    <tr>\n",
       "      <th>148</th>\n",
       "      <td>2016</td>\n",
       "      <td>2026-12-01</td>\n",
       "      <td>'Christmas Day' observed</td>\n",
       "      <td>Federal Holiday</td>\n",
       "    </tr>\n",
       "    <tr>\n",
       "      <th>149</th>\n",
       "      <td>2016</td>\n",
       "      <td>1931-12-01</td>\n",
       "      <td>New Year's Eve</td>\n",
       "      <td>Event</td>\n",
       "    </tr>\n",
       "  </tbody>\n",
       "</table>\n",
       "<p>150 rows × 4 columns</p>\n",
       "</div>"
      ],
      "text/plain": [
       "     Year  MonthDate                       Event      DayCategory\n",
       "0    2009 2001-01-01              New Year's Day  Federal Holiday\n",
       "1    2009 2019-01-01  Martin Luther King Jr. Day  Federal Holiday\n",
       "2    2009 2014-02-01             Valentine's Day            Event\n",
       "3    2009 2016-02-01             Presidents' Day  Federal Holiday\n",
       "4    2009 2012-04-01               Easter Sunday            Event\n",
       "..    ...        ...                         ...              ...\n",
       "145  2016 2024-11-01            Thanksgiving Day  Federal Holiday\n",
       "146  2016 2024-12-01               Christmas Eve            Event\n",
       "147  2016 2025-12-01               Christmas Day  Federal Holiday\n",
       "148  2016 2026-12-01    'Christmas Day' observed  Federal Holiday\n",
       "149  2016 1931-12-01              New Year's Eve            Event\n",
       "\n",
       "[150 rows x 4 columns]"
      ]
     },
     "execution_count": 66,
     "metadata": {},
     "output_type": "execute_result"
    }
   ],
   "source": [
    "pd.read_excel('Events_HolidaysData.xlsx')"
   ]
  }
 ],
 "metadata": {
  "kernelspec": {
   "display_name": "Python 3 (ipykernel)",
   "language": "python",
   "name": "python3"
  },
  "language_info": {
   "codemirror_mode": {
    "name": "ipython",
    "version": 3
   },
   "file_extension": ".py",
   "mimetype": "text/x-python",
   "name": "python",
   "nbconvert_exporter": "python",
   "pygments_lexer": "ipython3",
   "version": "3.9.7"
  }
 },
 "nbformat": 4,
 "nbformat_minor": 5
}
